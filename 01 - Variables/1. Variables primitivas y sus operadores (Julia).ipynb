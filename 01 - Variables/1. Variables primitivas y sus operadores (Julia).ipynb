{
 "cells": [
  {
   "cell_type": "markdown",
   "metadata": {},
   "source": [
    "# Varibles\n",
    "---\n",
    "Son las que nos permiten almacenar datos.\n",
    "\n",
    "Consta del de la variable y el valor que tiene.\\\n",
    "Ejem:"
   ]
  },
  {
   "cell_type": "code",
   "execution_count": 1,
   "metadata": {},
   "outputs": [
    {
     "name": "stdout",
     "output_type": "stream",
     "text": [
      "24\n",
      "30\n"
     ]
    },
    {
     "data": {
      "text/plain": [
       "Int64"
      ]
     },
     "metadata": {},
     "output_type": "display_data"
    }
   ],
   "source": [
    "# Varibale | Operador [operador de asignacion] | Valor\n",
    "numero = 24\n",
    "\n",
    "# Podemos imprimir en pantalla ese Valor\n",
    "println(numero)\n",
    "\n",
    "# Podemos reasignar el valor\n",
    "numero = 30\n",
    "println(numero)\n",
    "\n",
    "# Podemos ver que tipo de dato es\n",
    "typeof(numero)"
   ]
  },
  {
   "cell_type": "markdown",
   "metadata": {},
   "source": [
    "## 1. Tipos de datos\n",
    "### 1.1 Datos primitivos\n",
    "A) Enteros (`int`): Son los que me permiten almacenar números enteros $\\mathbb{Z}$, Ademas me permite hacer todas las operaciones sobre los enteros."
   ]
  },
  {
   "cell_type": "code",
   "execution_count": 2,
   "metadata": {},
   "outputs": [
    {
     "name": "stdout",
     "output_type": "stream",
     "text": [
      "8\n",
      "15\n",
      "-2\n",
      "0.6\n",
      "243\n"
     ]
    }
   ],
   "source": [
    "a = 3\n",
    "b = 5\n",
    "\n",
    "println(a + b)\n",
    "println(a * b)\n",
    "println(a - b)\n",
    "println(a / b)\n",
    "println(a ^ b)"
   ]
  },
  {
   "cell_type": "markdown",
   "metadata": {},
   "source": [
    "B) Flotantes (`float`): Son los que me permiten almacenar números con decimales $\\mathbb{R}$. Ademas me permite hacer todas las operaciones sobre los flotantes."
   ]
  },
  {
   "cell_type": "code",
   "execution_count": 9,
   "metadata": {},
   "outputs": [
    {
     "name": "stdout",
     "output_type": "stream",
     "text": [
      "6.9\n",
      "11.9\n",
      "-0.10000000000000009\n",
      "0.9714285714285714\n",
      "72.47299506988792\n",
      "6.283185307179586\n",
      "El resultado es: 0.9714285714285714\n",
      "El resultado redondeado es: 0.9714\n"
     ]
    }
   ],
   "source": [
    "a = 3.4\n",
    "b = 3.5\n",
    "c = pi\n",
    "d = 3.0\n",
    "\n",
    "println(a + b)\n",
    "println(a * b)\n",
    "println(a - b)\n",
    "println(a / b)\n",
    "println(a ^ b)\n",
    "println(2*c)\n",
    "\n",
    "resultado = a / b\n",
    "println(\"El resultado es: \", resultado)\n",
    "\n",
    "# Redondeando resultado\n",
    "resultado = round(resultado, digits=4)\n",
    "println(\"El resultado redondeado es: \", resultado)\n"
   ]
  },
  {
   "cell_type": "markdown",
   "metadata": {},
   "source": [
    "#### C) Booleano (`bool`): Son los que me permiten almacenar valores logicos.\n",
    "\n",
    "Internamente `false` es `0` y `true` es `1`.\n",
    "\n",
    "Los operadores logicos con los que funcianan son (Estrictamente para bool):  \n",
    "* `p && q` esto es $p \\wedge q$\n",
    "* `p || q` esto es $p \\vee q$.\n",
    "* `!p` esto es $\\sim p$.\n",
    "\n",
    "Operadores logicos que funcionan con cualquier tipo de dato\n",
    "* `p == q` esto es $p \\equiv  q$\n",
    "* `p != q` esto es $p \\not \\equiv  q$\n"
   ]
  },
  {
   "cell_type": "code",
   "execution_count": 82,
   "metadata": {},
   "outputs": [
    {
     "name": "stdout",
     "output_type": "stream",
     "text": [
      "suma de p + q: 1\n",
      "Sumando true + true + true + true + false: 3\n",
      "p && q = false\n",
      "p || q = true\n",
      "!p = true\n",
      "p == q = false\n",
      "p != q = true\n",
      "suma de p + q: 1\n",
      "Sumando true + true + true + true + false: 3\n",
      "p && q = false\n",
      "p || q = true\n",
      "!p = true\n",
      "p == q = false\n",
      "p != q = true\n"
     ]
    }
   ],
   "source": [
    "p = false\n",
    "q = true\n",
    "\n",
    "println(\"suma de p + q: \", p + q)\n",
    "println(\"Sumando true + true + true + true + false: \", true + true + true + false)\n",
    "\n",
    "# Operadores logicos\n",
    "# and\n",
    "println(\"p && q = \", p && q)\n",
    "\n",
    "# or\n",
    "println(\"p || q = \", p || q)\n",
    "\n",
    "# negacion\n",
    "println(\"!p = \", !p)\n",
    "\n",
    "# Operador de equivalencia\n",
    "println(\"p == q = \", p == q)\n",
    "\n",
    "# Operador de no equivalencia\n",
    "println(\"p != q = \", p != q)\n"
   ]
  },
  {
   "cell_type": "markdown",
   "metadata": {},
   "source": [
    "#### D) Caracteres (`char`): Son los que me permiten almacenar un caracter.\n",
    "\n",
    "El valor de la variable se le debe asignar entre comillas simples\n",
    "\n",
    "##### Concatenacion\n",
    "\"Es la union\" de caracteres\n",
    "ejemplo `'c' * 'a' * 't' * 'e' = \"cate\"`"
   ]
  },
  {
   "cell_type": "code",
   "execution_count": 56,
   "metadata": {},
   "outputs": [
    {
     "name": "stdout",
     "output_type": "stream",
     "text": [
      "Impriemiendo letra: a\n",
      "Impriemiendo letra_b: b\n",
      "Impriemiendo char_numero: 1\n",
      "Cadena: ab12\n",
      "letra^10: aaaaaaaaaa\n"
     ]
    }
   ],
   "source": [
    "letra = 'a'\n",
    "letra_b = 'b'\n",
    "char_numero = '1'\n",
    "char_numero2 = '2'\n",
    "\n",
    "println(\"Impriemiendo letra: \", letra)\n",
    "println(\"Impriemiendo letra_b: \", letra_b)\n",
    "println(\"Impriemiendo char_numero: \", char_numero)\n",
    "\n",
    "# Concatenar\n",
    "cadena = letra * letra_b * char_numero * char_numero2\n",
    "println(\"Cadena: \", cadena)\n",
    "\n",
    "# IMprimiendo 10 veces a\n",
    "\n",
    "println(\"letra^10: \", letra^10)"
   ]
  },
  {
   "cell_type": "markdown",
   "metadata": {},
   "source": [
    "#### E) Cadenas (`string`): Son los que me permiten almacenar una secuencia de caracteres.\n",
    "`cadena = \"Star Wars\"`"
   ]
  },
  {
   "cell_type": "code",
   "execution_count": 10,
   "metadata": {},
   "outputs": [
    {
     "name": "stdout",
     "output_type": "stream",
     "text": [
      "Letra: a\n",
      "Nombre: Juan\n",
      "Apellido: Perez\n",
      "Nombre completo: JuanPerez\n",
      "Nombre completo: Juan Perez\n",
      "Nombre completo: Juan Perez | Juan Perez | Juan Perez | \n",
      "Longitud de nombre: 4"
     ]
    }
   ],
   "source": [
    "letra = \"a\"\n",
    "nombre = \"Juan\"\n",
    "apellido = \"Perez\"\n",
    "\n",
    "println(\"Letra: \", letra)\n",
    "println(\"Nombre: \", nombre)\n",
    "println(\"Apellido: \", apellido)\n",
    "\n",
    "# Concanear\n",
    "nombre_completo = nombre * apellido\n",
    "println(\"Nombre completo: \", nombre_completo)\n",
    "\n",
    "# Nombre \n",
    "nombre_completo = nombre * \" \" * apellido\n",
    "println(\"Nombre completo: \", nombre_completo)\n",
    "\n",
    "# Imprimiendo 10 veces el nombre\n",
    "println(\"Nombre completo: \", (nombre_completo * \" | \")^3)\n",
    "\n",
    "# Longitud de caractes\n",
    "longitud = length(nombre)\n",
    "print(\"Longitud de nombre: \", longitud)"
   ]
  },
  {
   "cell_type": "markdown",
   "metadata": {},
   "source": [
    "### Saber el tipo de dato\n",
    "`typeof(x)`: devuelve el tipo de dato de `x`"
   ]
  },
  {
   "cell_type": "code",
   "execution_count": 10,
   "metadata": {},
   "outputs": [
    {
     "name": "stdout",
     "output_type": "stream",
     "text": [
      "Tipo de dato de a: Int64\n",
      "Tipo de dato de f: Float64\n",
      "Tipo de dato de nombre: String\n",
      "Tipo de dato de letra_f: String\n",
      "Tipo de dato de letra: Char\n",
      "Tipo de dato de p: Bool\n",
      "Tipo de dato de pi: Irrational{:π}\n"
     ]
    }
   ],
   "source": [
    "a = 2\n",
    "println(\"Tipo de dato de a: \", typeof(a))\n",
    "\n",
    "f = 2.0\n",
    "println(\"Tipo de dato de f: \", typeof(f))\n",
    "\n",
    "nombre = \"Juan\"\n",
    "println(\"Tipo de dato de nombre: \", typeof(nombre))\n",
    "\n",
    "letra_f = \"f\"\n",
    "println(\"Tipo de dato de letra_f: \", typeof(letra_f))\n",
    "\n",
    "letra = 'f'\n",
    "println(\"Tipo de dato de letra: \", typeof(letra))\n",
    "\n",
    "p = true\n",
    "println(\"Tipo de dato de p: \", typeof(p))\n",
    "\n",
    "println(\"Tipo de dato de pi: \", typeof(pi))"
   ]
  },
  {
   "cell_type": "markdown",
   "metadata": {},
   "source": [
    "## 2. Operadores"
   ]
  },
  {
   "cell_type": "markdown",
   "metadata": {},
   "source": [
    "### 2.1 Aritmeticos"
   ]
  },
  {
   "cell_type": "markdown",
   "metadata": {},
   "source": [
    "1. `+`: Suma\n",
    "2. `-`: Resta\n",
    "3. `*`: Multiplicacion\n",
    "4. `/`: Division\n",
    "5. `%`: Modulo\n",
    "6. `^`: Potencia"
   ]
  },
  {
   "cell_type": "code",
   "execution_count": 21,
   "metadata": {},
   "outputs": [
    {
     "name": "stdout",
     "output_type": "stream",
     "text": [
      "pi + 2 = 5.141592653589793\n",
      "numero_1 + numero_2 = 22.47213595499958\n",
      "numero_1 - numero_2 = 13.52786404500042\n",
      "numero_1 * numero_2 = 80.49844718999243\n",
      "numero_1 / numero_2 = 4.024922359499621\n",
      "numero_1 ^ numero_2 = 410912.4533067715\n",
      "El resto de entero_1 / entero_2 = 4\n",
      "entero_1 ^ 0.5 = 5.830951894845301\n"
     ]
    }
   ],
   "source": [
    "println(\"pi + 2 = \", pi + 2)\n",
    "\n",
    "numero_1 = 18\n",
    "numero_2 = 20^0.5\n",
    "\n",
    "println(\"numero_1 + numero_2 = \", numero_1 + numero_2)\n",
    "println(\"numero_1 - numero_2 = \", numero_1 - numero_2)\n",
    "println(\"numero_1 * numero_2 = \", numero_1 * numero_2)\n",
    "println(\"numero_1 / numero_2 = \", numero_1 / numero_2)\n",
    "println(\"numero_1 ^ numero_2 = \", numero_1 ^ numero_2)\n",
    "\n",
    "entero_1 = 34\n",
    "entero_2 = 15\n",
    "\n",
    "println(\"El resto de entero_1 / entero_2 = \", entero_1 % entero_2)\n",
    "\n",
    "println(\"entero_1 ^ 0.5 = \", entero_1^0.5)\n"
   ]
  },
  {
   "cell_type": "markdown",
   "metadata": {},
   "source": [
    "### 2.2 Opereciones convinadas"
   ]
  }
 ],
 "metadata": {
  "interpreter": {
   "hash": "3b9e2c1c1886a70341260ccdb5dca7eda20d5b2d2b81ccdfd5c7d91942664b3a"
  },
  "kernelspec": {
   "display_name": "Julia 1.7.2",
   "language": "julia",
   "name": "julia-1.7"
  },
  "language_info": {
   "file_extension": ".jl",
   "mimetype": "application/julia",
   "name": "julia",
   "version": "1.7.2"
  },
  "orig_nbformat": 4
 },
 "nbformat": 4,
 "nbformat_minor": 2
}
