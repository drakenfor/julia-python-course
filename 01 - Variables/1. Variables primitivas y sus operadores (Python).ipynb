{
 "cells": [
  {
   "cell_type": "markdown",
   "metadata": {},
   "source": [
    "# Variables\n",
    "---"
   ]
  },
  {
   "cell_type": "markdown",
   "metadata": {},
   "source": [
    "## 1. Tipos de datos"
   ]
  },
  {
   "cell_type": "markdown",
   "metadata": {},
   "source": [
    "### 1.1 Primitivos"
   ]
  },
  {
   "cell_type": "markdown",
   "metadata": {},
   "source": [
    "#### A) Enteros"
   ]
  },
  {
   "cell_type": "code",
   "execution_count": 3,
   "metadata": {},
   "outputs": [
    {
     "name": "stdout",
     "output_type": "stream",
     "text": [
      "45\n",
      "a + b =  8\n",
      "a - b =  -4\n",
      "a * b =  12\n",
      "a / b =  0.3333333333333333\n",
      "a ^ b =  64\n"
     ]
    }
   ],
   "source": [
    "numero = 45\n",
    "print(numero)\n",
    "\n",
    "a = 2\n",
    "b = 6\n",
    "\n",
    "# Operadores\n",
    "print('a + b = ', a + b)\n",
    "print('a - b = ', a - b)\n",
    "print('a * b = ', a * b)\n",
    "print('a / b = ', a / b)\n",
    "print('a ^ b = ', a ** b)"
   ]
  },
  {
   "cell_type": "markdown",
   "metadata": {},
   "source": [
    "#### B) Flotantes"
   ]
  },
  {
   "cell_type": "code",
   "execution_count": 16,
   "metadata": {},
   "outputs": [
    {
     "name": "stdout",
     "output_type": "stream",
     "text": [
      "a + b =  7.7\n",
      "a - b =  -3.1000000000000005\n",
      "a * b =  12.42\n",
      "a / b =  0.4259259259259259\n",
      "a ^ b =  89.81116180464625\n",
      "resultado =  0.4259259259259259\n",
      "resultado rededondeado =  0.4\n"
     ]
    }
   ],
   "source": [
    "a = 2.3\n",
    "b = 5.4\n",
    "\n",
    "# Operaciones\n",
    "print('a + b = ', a + b)\n",
    "print('a - b = ', a - b)\n",
    "print('a * b = ', a * b)\n",
    "print('a / b = ', a / b)\n",
    "print('a ^ b = ', a ** b)\n",
    "\n",
    "# Redondear decimales\n",
    "resultado = a / b\n",
    "print('resultado = ', resultado )\n",
    "\n",
    "resultado = round(resultado, 1)\n",
    "print('resultado rededondeado = ', resultado )"
   ]
  },
  {
   "cell_type": "markdown",
   "metadata": {},
   "source": [
    "#### C) Bool"
   ]
  },
  {
   "cell_type": "markdown",
   "metadata": {},
   "source": [
    "Internamente `false` es `0` y `true` es `1`.\n",
    "\n",
    "Los operadores logicos con los que funcianan son (Estrictamente para bool):  \n",
    "* `p and q` esto es $p \\wedge q$\n",
    "* `p or q` esto es $p \\vee q$.\n",
    "* `not p` esto es $\\sim p$.\n",
    "\n",
    "Operadores logicos que funcionan con cualquier tipo de dato\n",
    "* `p == q` esto es $p \\equiv  q$\n",
    "* `p != q` esto es $p \\not \\equiv  q$\n"
   ]
  },
  {
   "cell_type": "code",
   "execution_count": 32,
   "metadata": {},
   "outputs": [
    {
     "name": "stdout",
     "output_type": "stream",
     "text": [
      "p and q =  False\n",
      "p or q =  True\n",
      "not p =  False\n",
      "a == b =  False\n",
      "a != b =  True\n"
     ]
    }
   ],
   "source": [
    "p = True\n",
    "q = False\n",
    "\n",
    "a = 4\n",
    "b = \"4\"\n",
    "\n",
    "# Operaciones\n",
    "print('p and q = ', p and q)\n",
    "print('p or q = ', p or q)\n",
    "print('not p = ', not p)\n",
    "\n",
    "print('a == b = ', a == b)\n",
    "print('a != b = ', a != b)\n"
   ]
  },
  {
   "cell_type": "markdown",
   "metadata": {},
   "source": [
    "#### 4) Cadenas"
   ]
  },
  {
   "cell_type": "code",
   "execution_count": 49,
   "metadata": {},
   "outputs": [
    {
     "name": "stdout",
     "output_type": "stream",
     "text": [
      "Nombre:  Juanita\n",
      "Apellido:  Perez\n",
      "Nombe completo:  JuanitaPerez\n",
      "Nombre completo con espacios:  Juanita Perez\n",
      "nombre 10 veces Juanita|Juanita|Juanita|Juanita|Juanita|Juanita|Juanita|Juanita|Juanita|Juanita|\n",
      "La longitud de caracteres es:  7\n"
     ]
    }
   ],
   "source": [
    "nombre = \"Juanita\"\n",
    "apellido = \"Perez\"\n",
    "\n",
    "print(\"Nombre: \", nombre)\n",
    "print(\"Apellido: \", apellido)\n",
    "\n",
    "nombre_completo = nombre + apellido\n",
    "print(\"Nombe completo: \", nombre_completo)\n",
    "\n",
    "nombre_completo_espacio = nombre + ' ' + apellido\n",
    "print(\"Nombre completo con espacios: \", nombre_completo_espacio)\n",
    "\n",
    "print(\"nombre 10 veces\", (nombre + '|' )* 10)\n",
    "\n",
    "# Longitud de una cade: Numero de caracteres\n",
    "longitud = len(nombre)\n",
    "print(\"La longitud de caracteres es: \", longitud)\n"
   ]
  }
 ],
 "metadata": {
  "interpreter": {
   "hash": "3b9e2c1c1886a70341260ccdb5dca7eda20d5b2d2b81ccdfd5c7d91942664b3a"
  },
  "kernelspec": {
   "display_name": "Python 3.10.4 64-bit",
   "language": "python",
   "name": "python3"
  },
  "language_info": {
   "codemirror_mode": {
    "name": "ipython",
    "version": 3
   },
   "file_extension": ".py",
   "mimetype": "text/x-python",
   "name": "python",
   "nbconvert_exporter": "python",
   "pygments_lexer": "ipython3",
   "version": "3.10.4"
  },
  "orig_nbformat": 4
 },
 "nbformat": 4,
 "nbformat_minor": 2
}
