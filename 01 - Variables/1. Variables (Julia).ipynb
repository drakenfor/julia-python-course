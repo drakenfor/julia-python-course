{
 "cells": [
  {
   "cell_type": "markdown",
   "metadata": {},
   "source": [
    "# Varibles\n",
    "---\n",
    "Son las que nos permiten almacenar datos.\n",
    "\n",
    "Consta del de la variable y el valor que tiene.\\\n",
    "Ejem:"
   ]
  },
  {
   "cell_type": "code",
   "execution_count": 4,
   "metadata": {},
   "outputs": [
    {
     "name": "stdout",
     "output_type": "stream",
     "text": [
      "24\n",
      "30\n"
     ]
    },
    {
     "data": {
      "text/plain": [
       "Int64"
      ]
     },
     "metadata": {},
     "output_type": "display_data"
    }
   ],
   "source": [
    "# Varibale | Operador [operador de asignacion] | Valor\n",
    "numero = 24\n",
    "\n",
    "# Podemos imprimir en pantalla ese Valor\n",
    "println(numero)\n",
    "\n",
    "# Podemos reasignar el valor\n",
    "numero = 30\n",
    "println(numero)\n",
    "\n",
    "# Podemos ver que tipo de dato es\n",
    "typeof(numero)"
   ]
  },
  {
   "cell_type": "markdown",
   "metadata": {},
   "source": [
    "## 1. Tipos de datos\n",
    "### 1.1 Datos primitivos\n",
    "A) Enteros (`int`): Son los que me permiten almacenar números enteros $\\mathbb{Z}$, Ademas me permite hacer todas las operaciones sobre los enteros."
   ]
  },
  {
   "cell_type": "code",
   "execution_count": 10,
   "metadata": {},
   "outputs": [
    {
     "name": "stdout",
     "output_type": "stream",
     "text": [
      "8\n",
      "15\n",
      "-2\n",
      "0.6\n",
      "243\n"
     ]
    }
   ],
   "source": [
    "a = 3\n",
    "b = 5\n",
    "\n",
    "println(a + b)\n",
    "println(a * b)\n",
    "println(a - b)\n",
    "println(a / b)\n",
    "println(a ^ b)"
   ]
  }
 ],
 "metadata": {
  "interpreter": {
   "hash": "3b9e2c1c1886a70341260ccdb5dca7eda20d5b2d2b81ccdfd5c7d91942664b3a"
  },
  "kernelspec": {
   "display_name": "Julia 1.7.2",
   "language": "julia",
   "name": "julia-1.7"
  },
  "language_info": {
   "file_extension": ".jl",
   "mimetype": "application/julia",
   "name": "julia",
   "version": "1.7.2"
  },
  "orig_nbformat": 4
 },
 "nbformat": 4,
 "nbformat_minor": 2
}
