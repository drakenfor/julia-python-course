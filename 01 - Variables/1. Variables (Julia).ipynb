{
 "cells": [
  {
   "cell_type": "markdown",
   "metadata": {},
   "source": [
    "# Varibles\n",
    "---\n",
    "Son las que nos permiten almacenar datos.\n",
    "\n",
    "Consta del de la variable y el valor que tiene.\\\n",
    "Ejem:"
   ]
  },
  {
   "cell_type": "code",
   "execution_count": 1,
   "metadata": {},
   "outputs": [
    {
     "name": "stdout",
     "output_type": "stream",
     "text": [
      "24\n",
      "30\n"
     ]
    },
    {
     "data": {
      "text/plain": [
       "Int64"
      ]
     },
     "metadata": {},
     "output_type": "display_data"
    }
   ],
   "source": [
    "# Varibale | Operador [operador de asignacion] | Valor\n",
    "numero = 24\n",
    "\n",
    "# Podemos imprimir en pantalla ese Valor\n",
    "println(numero)\n",
    "\n",
    "# Podemos reasignar el valor\n",
    "numero = 30\n",
    "println(numero)\n",
    "\n",
    "# Podemos ver que tipo de dato es\n",
    "typeof(numero)"
   ]
  },
  {
   "cell_type": "markdown",
   "metadata": {},
   "source": [
    "## 1. Tipos de datos\n",
    "### 1.1 Datos primitivos\n",
    "A) Enteros (`int`): Son los que me permiten almacenar números enteros $\\mathbb{Z}$, Ademas me permite hacer todas las operaciones sobre los enteros."
   ]
  },
  {
   "cell_type": "code",
   "execution_count": 2,
   "metadata": {},
   "outputs": [
    {
     "name": "stdout",
     "output_type": "stream",
     "text": [
      "8\n",
      "15\n",
      "-2\n",
      "0.6\n",
      "243\n"
     ]
    }
   ],
   "source": [
    "a = 3\n",
    "b = 5\n",
    "\n",
    "println(a + b)\n",
    "println(a * b)\n",
    "println(a - b)\n",
    "println(a / b)\n",
    "println(a ^ b)"
   ]
  },
  {
   "cell_type": "markdown",
   "metadata": {},
   "source": [
    "B) Flotantes (`float`): Son los que me permiten almacenar números con decimales $\\mathbb{R}$. Ademas me permite hacer todas las operaciones sobre los flotantes."
   ]
  },
  {
   "cell_type": "code",
   "execution_count": 40,
   "metadata": {},
   "outputs": [
    {
     "name": "stdout",
     "output_type": "stream",
     "text": [
      "6.9\n",
      "11.9\n",
      "-0.10000000000000009\n",
      "0.9714285714285714\n",
      "72.47299506988792\n",
      "6.283185307179586\n"
     ]
    }
   ],
   "source": [
    "a = 3.4\n",
    "b = 3.5\n",
    "c = pi\n",
    "d = 3.0\n",
    "\n",
    "println(a + b)\n",
    "println(a * b)\n",
    "println(a - b)\n",
    "println(a / b)\n",
    "println(a ^ b)\n",
    "println(2*c)\n",
    "\n"
   ]
  },
  {
   "cell_type": "markdown",
   "metadata": {},
   "source": [
    "#### C) Booleano (`bool`): Son los que me permiten almacenar valores logicos.\n",
    "\n",
    "Internamente `false` es `0` y `true` es `1`.\n",
    "\n",
    "Los operadores logicos con los que funcianan son (Estrictamente para bool):  \n",
    "* `p && q` esto es $p \\wedge q$\n",
    "* `p || q` esto es $p \\vee q$.\n",
    "* `!p` esto es $\\sim p$.\n",
    "\n",
    "Operadores logicos que funcionan con cualquier tipo de dato\n",
    "* `p == q` esto es $p \\equiv  q$\n",
    "* `p != q` esto es $p \\not \\equiv  q$\n"
   ]
  },
  {
   "cell_type": "code",
   "execution_count": 82,
   "metadata": {},
   "outputs": [
    {
     "name": "stdout",
     "output_type": "stream",
     "text": [
      "suma de p + q: 1\n",
      "Sumando true + true + true + true + false: 3\n",
      "p && q = false\n",
      "p || q = true\n",
      "!p = true\n",
      "p == q = false\n",
      "p != q = true\n",
      "suma de p + q: 1\n",
      "Sumando true + true + true + true + false: 3\n",
      "p && q = false\n",
      "p || q = true\n",
      "!p = true\n",
      "p == q = false\n",
      "p != q = true\n"
     ]
    }
   ],
   "source": [
    "p = false\n",
    "q = true\n",
    "\n",
    "println(\"suma de p + q: \", p + q)\n",
    "println(\"Sumando true + true + true + true + false: \", true + true + true + false)\n",
    "\n",
    "# Operadores logicos\n",
    "# and\n",
    "println(\"p && q = \", p && q)\n",
    "\n",
    "# or\n",
    "println(\"p || q = \", p || q)\n",
    "\n",
    "# negacion\n",
    "println(\"!p = \", !p)\n",
    "\n",
    "# Operador de equivalencia\n",
    "println(\"p == q = \", p == q)\n",
    "\n",
    "# Operador de no equivalencia\n",
    "println(\"p != q = \", p != q)\n"
   ]
  },
  {
   "cell_type": "markdown",
   "metadata": {},
   "source": [
    "#### D) Caracteres (`char`): Son los que me permiten almacenar un caracter.\n",
    "\n",
    "El valor de la variable se le debe asignar entre comillas simples\n",
    "\n",
    "##### Concatenacion\n",
    "\"Es la union\" de caracteres\n",
    "ejemplo `'c' * 'a' * 't' * 'e' = \"cate\"`"
   ]
  },
  {
   "cell_type": "code",
   "execution_count": 56,
   "metadata": {},
   "outputs": [
    {
     "name": "stdout",
     "output_type": "stream",
     "text": [
      "Impriemiendo letra: a\n",
      "Impriemiendo letra_b: b\n",
      "Impriemiendo char_numero: 1\n",
      "Cadena: ab12\n",
      "letra^10: aaaaaaaaaa\n"
     ]
    }
   ],
   "source": [
    "letra = 'a'\n",
    "letra_b = 'b'\n",
    "char_numero = '1'\n",
    "char_numero2 = '2'\n",
    "\n",
    "println(\"Impriemiendo letra: \", letra)\n",
    "println(\"Impriemiendo letra_b: \", letra_b)\n",
    "println(\"Impriemiendo char_numero: \", char_numero)\n",
    "\n",
    "# Concatenar\n",
    "cadena = letra * letra_b * char_numero * char_numero2\n",
    "println(\"Cadena: \", cadena)\n",
    "\n",
    "# IMprimiendo 10 veces a\n",
    "\n",
    "println(\"letra^10: \", letra^10)"
   ]
  },
  {
   "cell_type": "markdown",
   "metadata": {},
   "source": [
    "#### E) Cadenas (`string`): Son los que me permiten almacenar una secuencia de caracteres.\n",
    "`cadena = \"Star Wars\"`"
   ]
  },
  {
   "cell_type": "code",
   "execution_count": 75,
   "metadata": {},
   "outputs": [
    {
     "name": "stdout",
     "output_type": "stream",
     "text": [
      "Letra: a\n",
      "Nombre: Juan\n",
      "Apellido: Perez\n",
      "Nombre completo: JuanPerez\n",
      "Nombre completo: Juan Perez\n",
      "Nombre completo: Juan Perez | Juan Perez | Juan Perez | \n"
     ]
    }
   ],
   "source": [
    "letra = \"a\"\n",
    "nombre = \"Juan\"\n",
    "apellido = \"Perez\"\n",
    "\n",
    "println(\"Letra: \", letra)\n",
    "println(\"Nombre: \", nombre)\n",
    "println(\"Apellido: \", apellido)\n",
    "\n",
    "# Concanear\n",
    "nombre_completo = nombre * apellido\n",
    "println(\"Nombre completo: \", nombre_completo)\n",
    "\n",
    "# Nombre \n",
    "nombre_completo = nombre * \" \" * apellido\n",
    "println(\"Nombre completo: \", nombre_completo)\n",
    "\n",
    "# Imprimiendo 10 veces el nombre\n",
    "println(\"Nombre completo: \", (nombre_completo * \" | \")^3)"
   ]
  }
 ],
 "metadata": {
  "interpreter": {
   "hash": "3b9e2c1c1886a70341260ccdb5dca7eda20d5b2d2b81ccdfd5c7d91942664b3a"
  },
  "kernelspec": {
   "display_name": "Julia 1.7.2",
   "language": "julia",
   "name": "julia-1.7"
  },
  "language_info": {
   "file_extension": ".jl",
   "mimetype": "application/julia",
   "name": "julia",
   "version": "1.7.2"
  },
  "orig_nbformat": 4
 },
 "nbformat": 4,
 "nbformat_minor": 2
}
